{
  "nbformat": 4,
  "nbformat_minor": 0,
  "metadata": {
    "colab": {
      "provenance": [],
      "include_colab_link": true
    },
    "kernelspec": {
      "name": "python3",
      "display_name": "Python 3"
    },
    "language_info": {
      "name": "python"
    }
  },
  "cells": [
    {
      "cell_type": "markdown",
      "metadata": {
        "id": "view-in-github",
        "colab_type": "text"
      },
      "source": [
        "<a href=\"https://colab.research.google.com/github/bruhenri12/fashion-mnist-dl/blob/dev/ListaPraticaMLPConv.ipynb\" target=\"_parent\"><img src=\"https://colab.research.google.com/assets/colab-badge.svg\" alt=\"Open In Colab\"/></a>"
      ]
    },
    {
      "cell_type": "markdown",
      "source": [
        "**LISTA PRÁTICA DAS UNIDADES 1 E 2**\n",
        "\n",
        "Pode ser feita com o grupo do projeto. Recomendo pair/group programming para que todos vejam um pouco de todas as partes.\n"
      ],
      "metadata": {
        "id": "SzcNr5C8FVQx"
      }
    },
    {
      "cell_type": "markdown",
      "source": [
        "Treine e avalie 4 modelos de classificação para a base de dados do FashionMNIST (https://www.kaggle.com/datasets/zalando-research/fashionmnist,\n",
        "https://pytorch.org/vision/stable/generated/torchvision.datasets.FashionMNIST.html).\n",
        "\n",
        "\n",
        "\n",
        "1.   Um modelo base que não seja uma rede neural, como _decision tree, xgboost, random forest_, etc. Recomendação: use o sklearn (https://scikit-learn.org/).\n",
        "\n",
        "2.   Uma MLP\n",
        "\n",
        "3. Uma rede convolucional criada por ti. Recomendação: https://pytorch.org/\n",
        "\n",
        "4. Use um modelo pré treinado já consolidado na literatura para fazer _transfer learning_. Recomendações: https://pytorch.org/hub/pytorch_vision_vgg/\n",
        "\n",
        "\n",
        "Compare os resultados dos modelos:\n",
        "* plote gráficos que mostrem as acurácias de cada modelo\n",
        "* Indique qual foi a classe na qual o modelo teve pior performance (indique qual métrica usou para concluir isso e faça para cada modelo)\n",
        "* argumente qual o melhor modelo levando em consideração o tempo de execução e acurácia.\n",
        "\n",
        "Recomendação use:\n",
        "https://pytorch.org/vision/main/generated/torchvision.datasets.MNIST.html .\n",
        "\n"
      ],
      "metadata": {
        "id": "hvhmts4k90-a"
      }
    },
    {
      "cell_type": "markdown",
      "source": [
        "Recomendação:\n",
        "\n",
        "Faça um template de treino, validação e teste que funcione para uma API de modelo.\n",
        "\n",
        "Crie a API para cada modelo que será usado e use o template"
      ],
      "metadata": {
        "id": "4QgLyoV5BK9q"
      }
    },
    {
      "cell_type": "markdown",
      "source": [
        "# Imports e Downloads"
      ],
      "metadata": {
        "id": "oK0gUqL9EuJD"
      }
    },
    {
      "cell_type": "code",
      "source": [
        "import torch, torchvision"
      ],
      "metadata": {
        "id": "sgzcKvcQEw40"
      },
      "execution_count": null,
      "outputs": []
    },
    {
      "cell_type": "code",
      "source": [
        "ROOT_PATH = '.data/'\n",
        "train = torchvision.datasets.FashionMNIST(ROOT_PATH,train=True,download=True)\n",
        "test = torchvision.datasets.FashionMNIST(ROOT_PATH,train=False,download=True)"
      ],
      "metadata": {
        "colab": {
          "base_uri": "https://localhost:8080/"
        },
        "id": "QcHuegNF9UtB",
        "outputId": "4b48e5a9-e245-4620-8fc9-a4a43370d90d"
      },
      "execution_count": null,
      "outputs": [
        {
          "output_type": "stream",
          "name": "stdout",
          "text": [
            "Downloading http://fashion-mnist.s3-website.eu-central-1.amazonaws.com/train-images-idx3-ubyte.gz\n",
            "Downloading http://fashion-mnist.s3-website.eu-central-1.amazonaws.com/train-images-idx3-ubyte.gz to .data/FashionMNIST/raw/train-images-idx3-ubyte.gz\n"
          ]
        },
        {
          "output_type": "stream",
          "name": "stderr",
          "text": [
            "100%|██████████| 26421880/26421880 [00:02<00:00, 11801183.44it/s]\n"
          ]
        },
        {
          "output_type": "stream",
          "name": "stdout",
          "text": [
            "Extracting .data/FashionMNIST/raw/train-images-idx3-ubyte.gz to .data/FashionMNIST/raw\n",
            "\n",
            "Downloading http://fashion-mnist.s3-website.eu-central-1.amazonaws.com/train-labels-idx1-ubyte.gz\n",
            "Downloading http://fashion-mnist.s3-website.eu-central-1.amazonaws.com/train-labels-idx1-ubyte.gz to .data/FashionMNIST/raw/train-labels-idx1-ubyte.gz\n"
          ]
        },
        {
          "output_type": "stream",
          "name": "stderr",
          "text": [
            "100%|██████████| 29515/29515 [00:00<00:00, 224431.98it/s]\n"
          ]
        },
        {
          "output_type": "stream",
          "name": "stdout",
          "text": [
            "Extracting .data/FashionMNIST/raw/train-labels-idx1-ubyte.gz to .data/FashionMNIST/raw\n",
            "\n",
            "Downloading http://fashion-mnist.s3-website.eu-central-1.amazonaws.com/t10k-images-idx3-ubyte.gz\n",
            "Downloading http://fashion-mnist.s3-website.eu-central-1.amazonaws.com/t10k-images-idx3-ubyte.gz to .data/FashionMNIST/raw/t10k-images-idx3-ubyte.gz\n"
          ]
        },
        {
          "output_type": "stream",
          "name": "stderr",
          "text": [
            "100%|██████████| 4422102/4422102 [00:01<00:00, 4214364.18it/s]\n"
          ]
        },
        {
          "output_type": "stream",
          "name": "stdout",
          "text": [
            "Extracting .data/FashionMNIST/raw/t10k-images-idx3-ubyte.gz to .data/FashionMNIST/raw\n",
            "\n",
            "Downloading http://fashion-mnist.s3-website.eu-central-1.amazonaws.com/t10k-labels-idx1-ubyte.gz\n",
            "Downloading http://fashion-mnist.s3-website.eu-central-1.amazonaws.com/t10k-labels-idx1-ubyte.gz to .data/FashionMNIST/raw/t10k-labels-idx1-ubyte.gz\n"
          ]
        },
        {
          "output_type": "stream",
          "name": "stderr",
          "text": [
            "100%|██████████| 5148/5148 [00:00<00:00, 17540436.22it/s]"
          ]
        },
        {
          "output_type": "stream",
          "name": "stdout",
          "text": [
            "Extracting .data/FashionMNIST/raw/t10k-labels-idx1-ubyte.gz to .data/FashionMNIST/raw\n",
            "\n"
          ]
        },
        {
          "output_type": "stream",
          "name": "stderr",
          "text": [
            "\n"
          ]
        }
      ]
    },
    {
      "cell_type": "code",
      "source": [
        "train"
      ],
      "metadata": {
        "colab": {
          "base_uri": "https://localhost:8080/"
        },
        "id": "O8T8XUxJ9_8s",
        "outputId": "0f1ef6f4-02bb-4575-858a-665f8beae887"
      },
      "execution_count": null,
      "outputs": [
        {
          "output_type": "execute_result",
          "data": {
            "text/plain": [
              "Dataset FashionMNIST\n",
              "    Number of datapoints: 60000\n",
              "    Root location: .\n",
              "    Split: Train"
            ]
          },
          "metadata": {},
          "execution_count": 24
        }
      ]
    },
    {
      "cell_type": "code",
      "source": [
        "test"
      ],
      "metadata": {
        "colab": {
          "base_uri": "https://localhost:8080/"
        },
        "id": "c2DmImPj-6W8",
        "outputId": "7b93c08e-a2bb-4331-ffd2-8b0feb30adac"
      },
      "execution_count": null,
      "outputs": [
        {
          "output_type": "execute_result",
          "data": {
            "text/plain": [
              "Dataset FashionMNIST\n",
              "    Number of datapoints: 10000\n",
              "    Root location: .\n",
              "    Split: Test"
            ]
          },
          "metadata": {},
          "execution_count": 19
        }
      ]
    },
    {
      "cell_type": "code",
      "source": [
        "!rm -rf FashionMNIST"
      ],
      "metadata": {
        "id": "Ae7xPY40DnBv"
      },
      "execution_count": null,
      "outputs": []
    },
    {
      "cell_type": "markdown",
      "source": [
        "# Modelo base"
      ],
      "metadata": {
        "id": "rz4Rv_MaCnvO"
      }
    },
    {
      "cell_type": "code",
      "execution_count": null,
      "metadata": {
        "id": "anIaY4TB9mQG"
      },
      "outputs": [],
      "source": []
    },
    {
      "cell_type": "markdown",
      "source": [
        "# MLP"
      ],
      "metadata": {
        "id": "2jx1ioMnCqC3"
      }
    },
    {
      "cell_type": "code",
      "source": [],
      "metadata": {
        "id": "dh_cQPsCCu7Y"
      },
      "execution_count": null,
      "outputs": []
    },
    {
      "cell_type": "markdown",
      "source": [
        "# Rede Convolucional"
      ],
      "metadata": {
        "id": "3zV0XIuwCvbL"
      }
    },
    {
      "cell_type": "code",
      "source": [],
      "metadata": {
        "id": "2WCbrZzJC1oz"
      },
      "execution_count": null,
      "outputs": []
    },
    {
      "cell_type": "markdown",
      "source": [
        "# Rede Convolucional consolidada"
      ],
      "metadata": {
        "id": "sUxkMdIuC1-8"
      }
    },
    {
      "cell_type": "code",
      "source": [],
      "metadata": {
        "id": "LXoNevx3C5D9"
      },
      "execution_count": null,
      "outputs": []
    },
    {
      "cell_type": "markdown",
      "source": [
        "# Comparação"
      ],
      "metadata": {
        "id": "NpiZ9wBtC9OS"
      }
    },
    {
      "cell_type": "code",
      "source": [],
      "metadata": {
        "id": "K0dPyNTdC-gN"
      },
      "execution_count": null,
      "outputs": []
    }
  ]
}