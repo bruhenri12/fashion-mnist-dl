{
  "nbformat": 4,
  "nbformat_minor": 0,
  "metadata": {
    "colab": {
      "provenance": [],
      "include_colab_link": true
    },
    "kernelspec": {
      "name": "python3",
      "display_name": "Python 3"
    },
    "language_info": {
      "name": "python"
    }
  },
  "cells": [
    {
      "cell_type": "markdown",
      "metadata": {
        "id": "view-in-github",
        "colab_type": "text"
      },
      "source": [
        "<a href=\"https://colab.research.google.com/github/bruhenri12/fashion-mnist-dl/blob/dev/ListaPraticaMLPConv.ipynb\" target=\"_parent\"><img src=\"https://colab.research.google.com/assets/colab-badge.svg\" alt=\"Open In Colab\"/></a>"
      ]
    },
    {
      "cell_type": "markdown",
      "source": [
        "# Descrição da Atividade"
      ],
      "metadata": {
        "id": "xPkzqXnCKpF4"
      }
    },
    {
      "cell_type": "markdown",
      "source": [
        "**LISTA PRÁTICA DAS UNIDADES 1 E 2**\n",
        "\n",
        "Pode ser feita com o grupo do projeto. Recomendo pair/group programming para que todos vejam um pouco de todas as partes.\n"
      ],
      "metadata": {
        "id": "SzcNr5C8FVQx"
      }
    },
    {
      "cell_type": "markdown",
      "source": [
        "Treine e avalie 4 modelos de classificação para a base de dados do FashionMNIST (https://www.kaggle.com/datasets/zalando-research/fashionmnist,\n",
        "https://pytorch.org/vision/stable/generated/torchvision.datasets.FashionMNIST.html).\n",
        "\n",
        "\n",
        "\n",
        "1.   Um modelo base que não seja uma rede neural, como _decision tree, xgboost, random forest_, etc. Recomendação: use o sklearn (https://scikit-learn.org/).\n",
        "\n",
        "2.   Uma MLP\n",
        "\n",
        "3. Uma rede convolucional criada por ti. Recomendação: https://pytorch.org/\n",
        "\n",
        "4. Use um modelo pré treinado já consolidado na literatura para fazer _transfer learning_. Recomendações: https://pytorch.org/hub/pytorch_vision_vgg/\n",
        "\n",
        "\n",
        "Compare os resultados dos modelos:\n",
        "* plote gráficos que mostrem as acurácias de cada modelo\n",
        "* Indique qual foi a classe na qual o modelo teve pior performance (indique qual métrica usou para concluir isso e faça para cada modelo)\n",
        "* argumente qual o melhor modelo levando em consideração o tempo de execução e acurácia.\n",
        "\n",
        "Recomendação use:\n",
        "https://pytorch.org/vision/main/generated/torchvision.datasets.MNIST.html .\n",
        "\n"
      ],
      "metadata": {
        "id": "hvhmts4k90-a"
      }
    },
    {
      "cell_type": "markdown",
      "source": [
        "Recomendação:\n",
        "\n",
        "Faça um template de treino, validação e teste que funcione para uma API de modelo.\n",
        "\n",
        "Crie a API para cada modelo que será usado e use o template"
      ],
      "metadata": {
        "id": "4QgLyoV5BK9q"
      }
    },
    {
      "cell_type": "markdown",
      "source": [
        "# Imports e Downloads"
      ],
      "metadata": {
        "id": "oK0gUqL9EuJD"
      }
    },
    {
      "cell_type": "markdown",
      "source": [
        "As we're going to measure the execution time of the models, we'll install the ipython-autotime library for showing each cell's execution time."
      ],
      "metadata": {
        "id": "OqufRp-2bQ0J"
      }
    },
    {
      "cell_type": "code",
      "source": [
        "!pip install -qqq ipython-autotime\n",
        "%load_ext autotime"
      ],
      "metadata": {
        "colab": {
          "base_uri": "https://localhost:8080/"
        },
        "id": "YUoxCFWljz8F",
        "outputId": "00c5a8f3-f086-4f6d-e1c5-96de953cc413"
      },
      "execution_count": 1,
      "outputs": [
        {
          "output_type": "stream",
          "name": "stdout",
          "text": [
            "\u001b[2K     \u001b[90m━━━━━━━━━━━━━━━━━━━━━━━━━━━━━━━━━━━━━━━━\u001b[0m \u001b[32m1.6/1.6 MB\u001b[0m \u001b[31m8.2 MB/s\u001b[0m eta \u001b[36m0:00:00\u001b[0m\n",
            "\u001b[?25htime: 501 µs (started: 2024-01-30 17:53:14 +00:00)\n"
          ]
        }
      ]
    },
    {
      "cell_type": "markdown",
      "source": [
        "Here we're importing the base libraries for creating the models.\n",
        "\n"
      ],
      "metadata": {
        "id": "NEhnNXK9buRh"
      }
    },
    {
      "cell_type": "code",
      "source": [
        "import matplotlib.pyplot as plt\n",
        "import numpy as np\n",
        "\n",
        "import torch\n",
        "import torchvision.datasets"
      ],
      "metadata": {
        "id": "sgzcKvcQEw40",
        "colab": {
          "base_uri": "https://localhost:8080/"
        },
        "outputId": "d7cada6e-9a2e-4d59-8bec-7b9e989879a3"
      },
      "execution_count": 2,
      "outputs": [
        {
          "output_type": "stream",
          "name": "stdout",
          "text": [
            "time: 9.98 s (started: 2024-01-30 17:53:14 +00:00)\n"
          ]
        }
      ]
    },
    {
      "cell_type": "markdown",
      "source": [
        "In this step, we'll import FashionMNIST's train and test datasets.\n",
        "\n",
        "First, our desired path for the dataset to be downloaded, that's\n",
        "our first parameter.\n",
        "\n",
        "Second, if the desired dataset is the train ( train = True ) or the test ( train = False ) one.\n",
        "\n",
        "Finally, for comodity, we want the dataset to be downloaded from torchvision, if the dataset already exists at the desired path, it does nothing but import the dataset from the path."
      ],
      "metadata": {
        "id": "S0cXnMD5cYqo"
      }
    },
    {
      "cell_type": "code",
      "source": [
        "ROOT_PATH = '.data/'\n",
        "train = torchvision.datasets.FashionMNIST(ROOT_PATH,train=True,download=True)\n",
        "test = torchvision.datasets.FashionMNIST(ROOT_PATH,train=False,download=True)"
      ],
      "metadata": {
        "colab": {
          "base_uri": "https://localhost:8080/"
        },
        "id": "QcHuegNF9UtB",
        "outputId": "392ad0bb-b0e9-46bc-e8c6-91d8163fe92a"
      },
      "execution_count": 3,
      "outputs": [
        {
          "output_type": "stream",
          "name": "stdout",
          "text": [
            "Downloading http://fashion-mnist.s3-website.eu-central-1.amazonaws.com/train-images-idx3-ubyte.gz\n",
            "Downloading http://fashion-mnist.s3-website.eu-central-1.amazonaws.com/train-images-idx3-ubyte.gz to .data/FashionMNIST/raw/train-images-idx3-ubyte.gz\n"
          ]
        },
        {
          "output_type": "stream",
          "name": "stderr",
          "text": [
            "100%|██████████| 26421880/26421880 [00:01<00:00, 16434904.17it/s]\n"
          ]
        },
        {
          "output_type": "stream",
          "name": "stdout",
          "text": [
            "Extracting .data/FashionMNIST/raw/train-images-idx3-ubyte.gz to .data/FashionMNIST/raw\n",
            "\n",
            "Downloading http://fashion-mnist.s3-website.eu-central-1.amazonaws.com/train-labels-idx1-ubyte.gz\n",
            "Downloading http://fashion-mnist.s3-website.eu-central-1.amazonaws.com/train-labels-idx1-ubyte.gz to .data/FashionMNIST/raw/train-labels-idx1-ubyte.gz\n"
          ]
        },
        {
          "output_type": "stream",
          "name": "stderr",
          "text": [
            "100%|██████████| 29515/29515 [00:00<00:00, 301541.59it/s]\n"
          ]
        },
        {
          "output_type": "stream",
          "name": "stdout",
          "text": [
            "Extracting .data/FashionMNIST/raw/train-labels-idx1-ubyte.gz to .data/FashionMNIST/raw\n",
            "\n",
            "Downloading http://fashion-mnist.s3-website.eu-central-1.amazonaws.com/t10k-images-idx3-ubyte.gz\n",
            "Downloading http://fashion-mnist.s3-website.eu-central-1.amazonaws.com/t10k-images-idx3-ubyte.gz to .data/FashionMNIST/raw/t10k-images-idx3-ubyte.gz\n"
          ]
        },
        {
          "output_type": "stream",
          "name": "stderr",
          "text": [
            "100%|██████████| 4422102/4422102 [00:00<00:00, 5488651.28it/s]\n"
          ]
        },
        {
          "output_type": "stream",
          "name": "stdout",
          "text": [
            "Extracting .data/FashionMNIST/raw/t10k-images-idx3-ubyte.gz to .data/FashionMNIST/raw\n",
            "\n",
            "Downloading http://fashion-mnist.s3-website.eu-central-1.amazonaws.com/t10k-labels-idx1-ubyte.gz\n",
            "Downloading http://fashion-mnist.s3-website.eu-central-1.amazonaws.com/t10k-labels-idx1-ubyte.gz to .data/FashionMNIST/raw/t10k-labels-idx1-ubyte.gz\n"
          ]
        },
        {
          "output_type": "stream",
          "name": "stderr",
          "text": [
            "100%|██████████| 5148/5148 [00:00<00:00, 16596677.17it/s]"
          ]
        },
        {
          "output_type": "stream",
          "name": "stdout",
          "text": [
            "Extracting .data/FashionMNIST/raw/t10k-labels-idx1-ubyte.gz to .data/FashionMNIST/raw\n",
            "\n",
            "time: 5.28 s (started: 2024-01-30 17:53:24 +00:00)\n"
          ]
        },
        {
          "output_type": "stream",
          "name": "stderr",
          "text": [
            "\n"
          ]
        }
      ]
    },
    {
      "cell_type": "markdown",
      "source": [
        "## Now, some info about the datasets"
      ],
      "metadata": {
        "id": "BbaYag3uv9S2"
      }
    },
    {
      "cell_type": "code",
      "source": [
        "train"
      ],
      "metadata": {
        "colab": {
          "base_uri": "https://localhost:8080/"
        },
        "id": "O8T8XUxJ9_8s",
        "outputId": "b1bad7f1-f96e-4ca0-c5d2-d00aaf0143ae"
      },
      "execution_count": 4,
      "outputs": [
        {
          "output_type": "execute_result",
          "data": {
            "text/plain": [
              "Dataset FashionMNIST\n",
              "    Number of datapoints: 60000\n",
              "    Root location: .data/\n",
              "    Split: Train"
            ]
          },
          "metadata": {},
          "execution_count": 4
        },
        {
          "output_type": "stream",
          "name": "stdout",
          "text": [
            "time: 5.59 ms (started: 2024-01-30 17:53:30 +00:00)\n"
          ]
        }
      ]
    },
    {
      "cell_type": "code",
      "source": [
        "test"
      ],
      "metadata": {
        "colab": {
          "base_uri": "https://localhost:8080/"
        },
        "id": "c2DmImPj-6W8",
        "outputId": "9ed785c7-7a64-4d4b-d209-6683bfa30102"
      },
      "execution_count": 5,
      "outputs": [
        {
          "output_type": "execute_result",
          "data": {
            "text/plain": [
              "Dataset FashionMNIST\n",
              "    Number of datapoints: 10000\n",
              "    Root location: .data/\n",
              "    Split: Test"
            ]
          },
          "metadata": {},
          "execution_count": 5
        },
        {
          "output_type": "stream",
          "name": "stdout",
          "text": [
            "time: 3.53 ms (started: 2024-01-30 17:53:30 +00:00)\n"
          ]
        }
      ]
    },
    {
      "cell_type": "markdown",
      "source": [
        "Let's see if the datasets samples are balanced. This is important to prevent an undesired bias towards the classes that have an majority of samples overfitting them, and underfitting the classes with lower samples."
      ],
      "metadata": {
        "id": "q_3c5GUKB82L"
      }
    },
    {
      "cell_type": "code",
      "source": [
        "train_classes_count = {\n",
        "  'T-shirt/top': 0,\n",
        "  'Trouser': 0,\n",
        "  'Pullover': 0,\n",
        "  'Dress': 0,\n",
        "  'Coat': 0,\n",
        "  'Sandal': 0,\n",
        "  'Shirt': 0,\n",
        "  'Sneaker': 0,\n",
        "  'Bag': 0,\n",
        "  'Ankle boot': 0\n",
        "}\n",
        "\n",
        "test_classes_count = {\n",
        "  'T-shirt/top': 0,\n",
        "  'Trouser': 0,\n",
        "  'Pullover': 0,\n",
        "  'Dress': 0,\n",
        "  'Coat': 0,\n",
        "  'Sandal': 0,\n",
        "  'Shirt': 0,\n",
        "  'Sneaker': 0,\n",
        "  'Bag': 0,\n",
        "  'Ankle boot': 0\n",
        "}\n",
        "\n",
        "for t in train.targets:\n",
        "  train_classes_count[train.classes[t]] += 1\n",
        "\n",
        "for t in test.targets:\n",
        "  test_classes_count[test.classes[t]] += 1\n"
      ],
      "metadata": {
        "colab": {
          "base_uri": "https://localhost:8080/"
        },
        "id": "oEmp89uLHA_-",
        "outputId": "7cbae5fd-e027-423d-dc31-77126cf8002b"
      },
      "execution_count": 6,
      "outputs": [
        {
          "output_type": "stream",
          "name": "stdout",
          "text": [
            "time: 1.06 s (started: 2024-01-30 17:53:30 +00:00)\n"
          ]
        }
      ]
    },
    {
      "cell_type": "code",
      "source": [
        "fig, ax = plt.subplots(figsize=(10, 4))\n",
        "bars = ax.bar(train.classes, train_classes_count.values())\n",
        "ax.bar_label(bars)\n",
        "plt.suptitle('Train Dataset Balance')\n",
        "plt.show()"
      ],
      "metadata": {
        "colab": {
          "base_uri": "https://localhost:8080/",
          "height": 426
        },
        "id": "euFvFb6hCUVZ",
        "outputId": "4ee37d4a-bee1-4752-813c-823588f0cf28"
      },
      "execution_count": 7,
      "outputs": [
        {
          "output_type": "display_data",
          "data": {
            "text/plain": [
              "<Figure size 1000x400 with 1 Axes>"
            ],
            "image/png": "[encoded data removed]"
          },
          "metadata": {}
        },
        {
          "output_type": "stream",
          "name": "stdout",
          "text": [
            "time: 823 ms (started: 2024-01-30 17:53:31 +00:00)\n"
          ]
        }
      ]
    },
    {
      "cell_type": "code",
      "source": [
        "fig, ax = plt.subplots(figsize=(10, 4))\n",
        "bars = ax.bar(test.classes, test_classes_count.values())\n",
        "ax.bar_label(bars)\n",
        "plt.suptitle('Test Dataset Balance')\n",
        "plt.show()"
      ],
      "metadata": {
        "colab": {
          "base_uri": "https://localhost:8080/",
          "height": 426
        },
        "id": "mk_1YflGC3_j",
        "outputId": "0a5c930d-3216-49b1-949c-2c83bc9058ad"
      },
      "execution_count": 8,
      "outputs": [
        {
          "output_type": "display_data",
          "data": {
            "text/plain": [
              "<Figure size 1000x400 with 1 Axes>"
            ],
            "image/png": "[encoded data removed]"
          },
          "metadata": {}
        },
        {
          "output_type": "stream",
          "name": "stdout",
          "text": [
            "time: 660 ms (started: 2024-01-30 17:53:32 +00:00)\n"
          ]
        }
      ]
    },
    {
      "cell_type": "markdown",
      "source": [
        "Ok, all the classes are evenly balanced for both train and test datasets, so we don't need to apply any balancing technique."
      ],
      "metadata": {
        "id": "QORjnxQRBlu_"
      }
    },
    {
      "cell_type": "markdown",
      "source": [
        "# Modelo base"
      ],
      "metadata": {
        "id": "rz4Rv_MaCnvO"
      }
    },
    {
      "cell_type": "code",
      "execution_count": 8,
      "metadata": {
        "id": "anIaY4TB9mQG",
        "colab": {
          "base_uri": "https://localhost:8080/"
        },
        "outputId": "b5ea7e74-273c-4f34-c528-73d9bba7c017"
      },
      "outputs": [
        {
          "output_type": "stream",
          "name": "stdout",
          "text": [
            "time: 689 ms (started: 2024-01-30 17:53:32 +00:00)\n"
          ]
        }
      ],
      "source": []
    },
    {
      "cell_type": "markdown",
      "source": [
        "# MLP"
      ],
      "metadata": {
        "id": "2jx1ioMnCqC3"
      }
    },
    {
      "cell_type": "code",
      "source": [],
      "metadata": {
        "id": "dh_cQPsCCu7Y",
        "colab": {
          "base_uri": "https://localhost:8080/"
        },
        "outputId": "b5244a84-06ae-414b-abb6-1855e9dbfa6d"
      },
      "execution_count": 8,
      "outputs": [
        {
          "output_type": "stream",
          "name": "stdout",
          "text": [
            "time: 718 ms (started: 2024-01-30 17:53:32 +00:00)\n"
          ]
        }
      ]
    },
    {
      "cell_type": "markdown",
      "source": [
        "# Rede Convolucional"
      ],
      "metadata": {
        "id": "3zV0XIuwCvbL"
      }
    },
    {
      "cell_type": "code",
      "source": [],
      "metadata": {
        "id": "2WCbrZzJC1oz",
        "colab": {
          "base_uri": "https://localhost:8080/"
        },
        "outputId": "1c600a45-1be1-4ced-c9bc-4f2ef7c5a3ff"
      },
      "execution_count": 8,
      "outputs": [
        {
          "output_type": "stream",
          "name": "stdout",
          "text": [
            "time: 751 ms (started: 2024-01-30 17:53:32 +00:00)\n"
          ]
        }
      ]
    },
    {
      "cell_type": "markdown",
      "source": [
        "# Rede Convolucional consolidada"
      ],
      "metadata": {
        "id": "sUxkMdIuC1-8"
      }
    },
    {
      "cell_type": "code",
      "source": [],
      "metadata": {
        "id": "LXoNevx3C5D9",
        "colab": {
          "base_uri": "https://localhost:8080/"
        },
        "outputId": "53ec3dbf-313a-4ca2-cc67-bbfa1df1d3b0"
      },
      "execution_count": 8,
      "outputs": [
        {
          "output_type": "stream",
          "name": "stdout",
          "text": [
            "time: 788 ms (started: 2024-01-30 17:53:32 +00:00)\n"
          ]
        }
      ]
    },
    {
      "cell_type": "markdown",
      "source": [
        "# Comparação"
      ],
      "metadata": {
        "id": "NpiZ9wBtC9OS"
      }
    },
    {
      "cell_type": "code",
      "source": [],
      "metadata": {
        "id": "K0dPyNTdC-gN",
        "colab": {
          "base_uri": "https://localhost:8080/"
        },
        "outputId": "0f233e26-c67d-49fa-c2a9-08be05267b2b"
      },
      "execution_count": 8,
      "outputs": [
        {
          "output_type": "stream",
          "name": "stdout",
          "text": [
            "time: 821 ms (started: 2024-01-30 17:53:32 +00:00)\n"
          ]
        }
      ]
    }
  ]
}